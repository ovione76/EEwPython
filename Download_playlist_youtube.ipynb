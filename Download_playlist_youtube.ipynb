{
  "nbformat": 4,
  "nbformat_minor": 0,
  "metadata": {
    "colab": {
      "provenance": [],
      "authorship_tag": "ABX9TyMQTo/JVSwmUOHneoR5zx4q"
    },
    "kernelspec": {
      "name": "python3",
      "display_name": "Python 3"
    },
    "language_info": {
      "name": "python"
    }
  },
  "cells": [
    {
      "cell_type": "code",
      "execution_count": 2,
      "metadata": {
        "colab": {
          "base_uri": "https://localhost:8080/"
        },
        "id": "94vQYnG4Qgcj",
        "outputId": "5a8e9ba4-f2f2-42cb-c348-062e5f79b28d"
      },
      "outputs": [
        {
          "output_type": "stream",
          "name": "stdout",
          "text": [
            "Collecting pytube\n",
            "  Downloading pytube-15.0.0-py3-none-any.whl (57 kB)\n",
            "\u001b[?25l     \u001b[90m━━━━━━━━━━━━━━━━━━━━━━━━━━━━━━━━━━━━━━━━\u001b[0m \u001b[32m0.0/57.6 kB\u001b[0m \u001b[31m?\u001b[0m eta \u001b[36m-:--:--\u001b[0m\r\u001b[2K     \u001b[90m━━━━━━━━━━━━━━━━━━━━━━━━━━━━━━━━━━━━━━━━\u001b[0m \u001b[32m57.6/57.6 kB\u001b[0m \u001b[31m1.7 MB/s\u001b[0m eta \u001b[36m0:00:00\u001b[0m\n",
            "\u001b[?25hInstalling collected packages: pytube\n",
            "Successfully installed pytube-15.0.0\n"
          ]
        }
      ],
      "source": [
        "pip install pytube\n"
      ]
    },
    {
      "cell_type": "code",
      "source": [
        "from pytube import Playlist\n",
        "\n",
        "# Define a function to download a playlist\n",
        "def download_playlist(url):\n",
        "    # Create a Playlist object with the given URL\n",
        "    playlist = Playlist(url)\n",
        "    # Create an empty list to store the URLs of the videos\n",
        "    playlist_urls = []\n",
        "\n",
        "    # Iterate through each video in the playlist\n",
        "    for video in playlist.video_urls:\n",
        "        # Add the URL of each video to the playlist_urls list\n",
        "        playlist_urls.append(video)\n",
        "\n",
        "    # Return the list of video URLs\n",
        "    return playlist_urls\n",
        "\n",
        "# This block of code will be executed only if this script is run directly, not if it's imported as a module\n",
        "if __name__ == \"__main__\":\n",
        "    # Replace 'YOUR_PLAYLIST_URL' with the URL of the playlist you want to download\n",
        "    playlist_url = 'https://www.youtube.com/playlist?list=PLEnAlfUR3oGf4QAJYUmbNxHrmv18HcpNx'\n",
        "\n",
        "    # Call the download_playlist function with the specified playlist URL\n",
        "    playlist_urls = download_playlist(playlist_url)\n",
        "\n",
        "    # Print the list of video URLs\n",
        "    for url in playlist_urls:\n",
        "        print(url)\n",
        "\n",
        "\n",
        "    # Open a file named 'playlist_urls.txt' in write mode\n",
        "    with open('playlist_urls_python.txt', 'w') as file:\n",
        "        # Iterate through each URL in the playlist_urls list\n",
        "        for url in playlist_urls:\n",
        "            # Write each URL to the file followed by a newline character\n",
        "            file.write(url + '\\r\\n')\n",
        "\n",
        "    # Print a message to indicate that the URLs have been saved to the file\n",
        "    print(\"URLs saved to playlist_urls_python.txt\")\n"
      ],
      "metadata": {
        "colab": {
          "base_uri": "https://localhost:8080/"
        },
        "id": "2S7TMsZ0Qr7n",
        "outputId": "4032dc99-1e22-4f4a-9ce1-a682b455b25e"
      },
      "execution_count": 3,
      "outputs": [
        {
          "output_type": "stream",
          "name": "stdout",
          "text": [
            "https://www.youtube.com/watch?v=SotEpuRViGA\n",
            "https://www.youtube.com/watch?v=8-xIgPJpE_A\n",
            "https://www.youtube.com/watch?v=6j6L3feh1p4\n",
            "https://www.youtube.com/watch?v=zf8TjL9gzUc\n",
            "https://www.youtube.com/watch?v=CHiwaFEUB1Y\n",
            "https://www.youtube.com/watch?v=QPaHUBphDgo\n",
            "https://www.youtube.com/watch?v=rIx62AoMw8E\n",
            "https://www.youtube.com/watch?v=Zt3tzGjLmPA\n",
            "https://www.youtube.com/watch?v=Mc2j8Q-MHB4\n",
            "https://www.youtube.com/watch?v=V4ab6qsJZMY\n",
            "URLs saved to playlist_urls_python.txt\n"
          ]
        }
      ]
    }
  ]
}